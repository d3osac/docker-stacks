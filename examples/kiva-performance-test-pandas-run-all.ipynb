{
 "cells": [
  {
   "cell_type": "markdown",
   "metadata": {},
   "source": [
    "# Experimental simple performance testing notebook for Pandas\n",
    "- testing and comparing simple dataframe / sql operations of commong data (pre-)processing tasks \n",
    "- various available single-machine Python solutions are to be tested: Pandas, PySpark, Turi Create and Dask.\n",
    "- execution times, CPU load and maximal memory use should be tracked\n",
    "\n",
    "## Kiva dataset \n",
    "- [Kiva](https://www.kaggle.com/gaborfodor/additional-kiva-snapshot): crowdfunding data with lenders and loans, with additional geographic data\n",
    "- Pandas Kiva examples: https://www.kaggle.com/gaborfodor/additional-kiva-snapshot/kernels?sortBy=hotness&group=everyone&pageSize=20&datasetId=14345&language=Python\n"
   ]
  },
  {
   "cell_type": "markdown",
   "metadata": {},
   "source": [
    "## imports, setup"
   ]
  },
  {
   "cell_type": "code",
   "execution_count": 1,
   "metadata": {},
   "outputs": [],
   "source": [
    "import timeit\n",
    "import matplotlib.pyplot as plt\n",
    "import numpy as np\n",
    "import pandas as pd\n",
    "plt.style.use('fivethirtyeight')\n",
    "%matplotlib inline"
   ]
  },
  {
   "cell_type": "markdown",
   "metadata": {},
   "source": [
    "## read files to dataframes: loans and lenders"
   ]
  },
  {
   "cell_type": "code",
   "execution_count": 2,
   "metadata": {},
   "outputs": [
    {
     "name": "stdout",
     "output_type": "stream",
     "text": [
      "loans:  (1419607, 31)\n",
      "lenders:  (2349174, 11)\n",
      "ellapsed time:  36.91002261500398\n"
     ]
    }
   ],
   "source": [
    "start = timeit.default_timer()\n",
    "full_start = timeit.default_timer()\n",
    "\n",
    "loans_df = pd.read_csv(\"../../kiva/loans.csv\", parse_dates=['raised_time']) # 2.1 GB, 1.419.607 lines\n",
    "print('loans: ', loans_df.shape)\n",
    "\n",
    "lenders_df = pd.read_csv(\"../../kiva/lenders.csv\") #, parse_dates=['raised_time'])  # 130 MB file\n",
    "print('lenders: ', lenders_df.shape)\n",
    "\n",
    "print('ellapsed time: ', timeit.default_timer() - start)"
   ]
  },
  {
   "cell_type": "markdown",
   "metadata": {},
   "source": [
    "## read, transform and count loan_lenders \n",
    "string enumeration to rows: split tuple strings to array, then explode the array to rows\n"
   ]
  },
  {
   "cell_type": "code",
   "execution_count": 3,
   "metadata": {},
   "outputs": [
    {
     "name": "stdout",
     "output_type": "stream",
     "text": [
      "ellapsed time:  373.1914171449898\n"
     ]
    },
    {
     "data": {
      "text/html": [
       "<div>\n",
       "<style scoped>\n",
       "    .dataframe tbody tr th:only-of-type {\n",
       "        vertical-align: middle;\n",
       "    }\n",
       "\n",
       "    .dataframe tbody tr th {\n",
       "        vertical-align: top;\n",
       "    }\n",
       "\n",
       "    .dataframe thead th {\n",
       "        text-align: right;\n",
       "    }\n",
       "</style>\n",
       "<table border=\"1\" class=\"dataframe\">\n",
       "  <thead>\n",
       "    <tr style=\"text-align: right;\">\n",
       "      <th></th>\n",
       "      <th>loan_id</th>\n",
       "      <th>lender</th>\n",
       "    </tr>\n",
       "  </thead>\n",
       "  <tbody>\n",
       "    <tr>\n",
       "      <th>0</th>\n",
       "      <td>483693</td>\n",
       "      <td>muc888</td>\n",
       "    </tr>\n",
       "    <tr>\n",
       "      <th>1</th>\n",
       "      <td>483693</td>\n",
       "      <td>sam4326</td>\n",
       "    </tr>\n",
       "    <tr>\n",
       "      <th>2</th>\n",
       "      <td>483693</td>\n",
       "      <td>camaran3922</td>\n",
       "    </tr>\n",
       "    <tr>\n",
       "      <th>3</th>\n",
       "      <td>483693</td>\n",
       "      <td>lachheb1865</td>\n",
       "    </tr>\n",
       "    <tr>\n",
       "      <th>4</th>\n",
       "      <td>483693</td>\n",
       "      <td>rebecca3499</td>\n",
       "    </tr>\n",
       "  </tbody>\n",
       "</table>\n",
       "</div>"
      ],
      "text/plain": [
       "   loan_id       lender\n",
       "0   483693       muc888\n",
       "1   483693      sam4326\n",
       "2   483693  camaran3922\n",
       "3   483693  lachheb1865\n",
       "4   483693  rebecca3499"
      ]
     },
     "execution_count": 3,
     "metadata": {},
     "output_type": "execute_result"
    }
   ],
   "source": [
    "# version 1: this one is the best option\n",
    "# https://stackoverflow.com/questions/32468402/how-to-explode-a-list-inside-a-dataframe-cell-into-separate-rows\n",
    "start = timeit.default_timer()\n",
    "\n",
    "loans_lenders_raw_df = pd.read_csv(\"../../kiva/loans_lenders.csv\", #nrows=200000, \n",
    "                                   dtype={'loan_id': np.int32, 'lenders': object})\n",
    "# full: 339 MB file, 1.387.433 lines --> 6.3GB, 28.293.931 lines, 388 sec\n",
    "# 100.000 heading line --> 2.060.259 output lines\n",
    "# 200.000 heading line --> 4.110.948 output lines, 1.1 GB mem\n",
    "\n",
    "loans_lenders_raw_df.reset_index(inplace=True)\n",
    "rows = []\n",
    "_ = loans_lenders_raw_df.apply(lambda row: [rows.append([row['loan_id'], nn]) \n",
    "                         for nn in str.split(str.replace(row.lenders, ' ', ''), ',')], axis=1)\n",
    "\n",
    "loans_lenders_df = pd.DataFrame(rows, columns=['loan_id', 'lender']) #.set_index(['loan_id', 'lender'])\n",
    "\n",
    "print('ellapsed time: ', timeit.default_timer() - start)\n",
    "loans_lenders_df.head(5)"
   ]
  },
  {
   "cell_type": "markdown",
   "metadata": {},
   "source": [
    "## join, filter and sort loan and lender data\n",
    "get distinct joined lines with renamed columns, then write to an output file (for fully materialized results)\n",
    "- filtering on lenders.country_code: \n",
    "  - 'US': 25% of lenders\n",
    "  - 'CA': 3% of lenders --> 3.5 GB joined"
   ]
  },
  {
   "cell_type": "code",
   "execution_count": 4,
   "metadata": {},
   "outputs": [
    {
     "name": "stdout",
     "output_type": "stream",
     "text": [
      "ellapsed time:  0.3694360749941552\n"
     ]
    }
   ],
   "source": [
    "start = timeit.default_timer()\n",
    "\n",
    "# filter unique lenders: CA: 67.970\n",
    "lenders_df = lenders_df[lenders_df['country_code']=='CA']\n",
    "\n",
    "print('ellapsed time: ', timeit.default_timer() - start)"
   ]
  },
  {
   "cell_type": "code",
   "execution_count": 5,
   "metadata": {},
   "outputs": [
    {
     "name": "stdout",
     "output_type": "stream",
     "text": [
      "ellapsed time:  22.023902241999167\n"
     ]
    }
   ],
   "source": [
    "start = timeit.default_timer()\n",
    "\n",
    "# join: \n",
    "joined_df_1 = pd.merge(loans_lenders_df, lenders_df, left_on='lender', right_on='permanent_name')\n",
    "joined_df = pd.merge(joined_df_1, loans_df, on='loan_id')\n",
    "\n",
    "#joined_df.to_csv('../../kiva/pandas-result-joined.csv') # 3.7 GB\n",
    "\n",
    "print('ellapsed time: ', timeit.default_timer() - start)"
   ]
  },
  {
   "cell_type": "code",
   "execution_count": 6,
   "metadata": {},
   "outputs": [
    {
     "data": {
      "text/html": [
       "<div>\n",
       "<style scoped>\n",
       "    .dataframe tbody tr th:only-of-type {\n",
       "        vertical-align: middle;\n",
       "    }\n",
       "\n",
       "    .dataframe tbody tr th {\n",
       "        vertical-align: top;\n",
       "    }\n",
       "\n",
       "    .dataframe thead th {\n",
       "        text-align: right;\n",
       "    }\n",
       "</style>\n",
       "<table border=\"1\" class=\"dataframe\">\n",
       "  <thead>\n",
       "    <tr style=\"text-align: right;\">\n",
       "      <th></th>\n",
       "      <th>loan_id</th>\n",
       "      <th>lender</th>\n",
       "      <th>permanent_name</th>\n",
       "      <th>display_name</th>\n",
       "      <th>city</th>\n",
       "      <th>state</th>\n",
       "      <th>country_code_x</th>\n",
       "      <th>member_since</th>\n",
       "      <th>occupation</th>\n",
       "      <th>loan_because</th>\n",
       "      <th>...</th>\n",
       "      <th>raised_time</th>\n",
       "      <th>lender_term</th>\n",
       "      <th>num_lenders_total</th>\n",
       "      <th>num_journal_entries</th>\n",
       "      <th>num_bulk_entries</th>\n",
       "      <th>tags</th>\n",
       "      <th>borrower_genders</th>\n",
       "      <th>borrower_pictured</th>\n",
       "      <th>repayment_interval</th>\n",
       "      <th>distribution_model</th>\n",
       "    </tr>\n",
       "  </thead>\n",
       "  <tbody>\n",
       "    <tr>\n",
       "      <th>0</th>\n",
       "      <td>483693</td>\n",
       "      <td>alan5513</td>\n",
       "      <td>alan5513</td>\n",
       "      <td>Alan</td>\n",
       "      <td>Edmonton</td>\n",
       "      <td>Alberta</td>\n",
       "      <td>CA</td>\n",
       "      <td>1237674751</td>\n",
       "      <td>NaN</td>\n",
       "      <td>A small loan is an investment in enabling some...</td>\n",
       "      <td>...</td>\n",
       "      <td>2012-11-16 18:51:23</td>\n",
       "      <td>8.0</td>\n",
       "      <td>44</td>\n",
       "      <td>2</td>\n",
       "      <td>1</td>\n",
       "      <td>NaN</td>\n",
       "      <td>female</td>\n",
       "      <td>true</td>\n",
       "      <td>irregular</td>\n",
       "      <td>field_partner</td>\n",
       "    </tr>\n",
       "    <tr>\n",
       "      <th>1</th>\n",
       "      <td>483693</td>\n",
       "      <td>nick9464</td>\n",
       "      <td>nick9464</td>\n",
       "      <td>nick and anna</td>\n",
       "      <td>victoria</td>\n",
       "      <td>BC</td>\n",
       "      <td>CA</td>\n",
       "      <td>1277253851</td>\n",
       "      <td>self employed</td>\n",
       "      <td>it helps those who need help</td>\n",
       "      <td>...</td>\n",
       "      <td>2012-11-16 18:51:23</td>\n",
       "      <td>8.0</td>\n",
       "      <td>44</td>\n",
       "      <td>2</td>\n",
       "      <td>1</td>\n",
       "      <td>NaN</td>\n",
       "      <td>female</td>\n",
       "      <td>true</td>\n",
       "      <td>irregular</td>\n",
       "      <td>field_partner</td>\n",
       "    </tr>\n",
       "  </tbody>\n",
       "</table>\n",
       "<p>2 rows × 43 columns</p>\n",
       "</div>"
      ],
      "text/plain": [
       "   loan_id    lender permanent_name   display_name      city    state  \\\n",
       "0   483693  alan5513       alan5513           Alan  Edmonton  Alberta   \n",
       "1   483693  nick9464       nick9464  nick and anna  victoria       BC   \n",
       "\n",
       "  country_code_x  member_since     occupation  \\\n",
       "0             CA    1237674751            NaN   \n",
       "1             CA    1277253851  self employed   \n",
       "\n",
       "                                        loan_because        ...          \\\n",
       "0  A small loan is an investment in enabling some...        ...           \n",
       "1                       it helps those who need help        ...           \n",
       "\n",
       "          raised_time lender_term  num_lenders_total num_journal_entries  \\\n",
       "0 2012-11-16 18:51:23         8.0                 44                   2   \n",
       "1 2012-11-16 18:51:23         8.0                 44                   2   \n",
       "\n",
       "  num_bulk_entries tags borrower_genders  borrower_pictured  \\\n",
       "0                1  NaN           female               true   \n",
       "1                1  NaN           female               true   \n",
       "\n",
       "   repayment_interval distribution_model  \n",
       "0           irregular      field_partner  \n",
       "1           irregular      field_partner  \n",
       "\n",
       "[2 rows x 43 columns]"
      ]
     },
     "execution_count": 6,
     "metadata": {},
     "output_type": "execute_result"
    }
   ],
   "source": [
    "joined_df.head(2)"
   ]
  },
  {
   "cell_type": "markdown",
   "metadata": {},
   "source": [
    "## group and sort joined data"
   ]
  },
  {
   "cell_type": "markdown",
   "metadata": {},
   "source": [
    "* group by on the exploded loans_lenders table (6 GB): count distinct loan_id by lender"
   ]
  },
  {
   "cell_type": "code",
   "execution_count": 7,
   "metadata": {},
   "outputs": [
    {
     "name": "stdout",
     "output_type": "stream",
     "text": [
      "ellapsed time:  17.453769783998723\n",
      "(1383799,)\n",
      "full ellapsed time:  450.0331337139942\n"
     ]
    }
   ],
   "source": [
    "start = timeit.default_timer()\n",
    "\n",
    "lender_loan_count_df = loans_lenders_df.groupby(['lender'], as_index=True)['loan_id'].nunique() \\\n",
    "#    .sort_values(by='sector_name', ascending=False)\n",
    "\n",
    "print('ellapsed time: ', timeit.default_timer() - start)\n",
    "print(lender_loan_count_df.shape)\n",
    "\n",
    "lender_loan_count_df.head(5)\n",
    "\n",
    "print('full ellapsed time: ', timeit.default_timer() - full_start)"
   ]
  }
 ],
 "metadata": {
  "kernelspec": {
   "display_name": "Python 3",
   "language": "python",
   "name": "python3"
  },
  "language_info": {
   "codemirror_mode": {
    "name": "ipython",
    "version": 3
   },
   "file_extension": ".py",
   "mimetype": "text/x-python",
   "name": "python",
   "nbconvert_exporter": "python",
   "pygments_lexer": "ipython3",
   "version": "3.6.8"
  },
  "toc-autonumbering": false
 },
 "nbformat": 4,
 "nbformat_minor": 2
}
