{
 "cells": [
  {
   "cell_type": "markdown",
   "metadata": {},
   "source": [
    "# Experimental simple performance testing notebook for Turi Create\n",
    "- testing and comparing simple dataframe / sql operations of commong data (pre-)processing tasks \n",
    "- various available single-machine Python solutions are to be tested: Pandas, PySpark, Turi Create and Dask.\n",
    "- execution times, CPU load and maximal memory use should be tracked\n",
    "\n",
    "## Kiva dataset \n",
    "- [Kiva](https://www.kaggle.com/gaborfodor/additional-kiva-snapshot): crowdfunding data with lenders and loans, with additional geographic data\n",
    "- download the related CSV files and move them to a folder where the kernel can read them"
   ]
  },
  {
   "cell_type": "markdown",
   "metadata": {},
   "source": [
    "## imports, setup"
   ]
  },
  {
   "cell_type": "code",
   "execution_count": null,
   "metadata": {},
   "outputs": [],
   "source": [
    "import turicreate\n",
    "from turicreate import SFrame\n",
    "import turicreate.aggregate as agg\n",
    "\n",
    "import timeit"
   ]
  },
  {
   "cell_type": "markdown",
   "metadata": {},
   "source": [
    "## read files to dataframes: loans and lenders"
   ]
  },
  {
   "cell_type": "code",
   "execution_count": null,
   "metadata": {},
   "outputs": [],
   "source": [
    "lenders_sf = SFrame(data='../../kiva/lenders.csv')  # 130 MB file, 797.279 lines\n",
    "loans_sf = SFrame(data='../../kiva/loans.csv')      # 2.1 GB file, 1.419.607 lines"
   ]
  },
  {
   "cell_type": "code",
   "execution_count": null,
   "metadata": {
    "scrolled": true
   },
   "outputs": [],
   "source": [
    "lenders_sf.show()"
   ]
  },
  {
   "cell_type": "code",
   "execution_count": null,
   "metadata": {
    "scrolled": true
   },
   "outputs": [],
   "source": [
    "loans_sf.show()"
   ]
  },
  {
   "cell_type": "code",
   "execution_count": null,
   "metadata": {},
   "outputs": [],
   "source": [
    "lenders_sf.num_rows()"
   ]
  },
  {
   "cell_type": "markdown",
   "metadata": {},
   "source": [
    "## read, transform and count loan_lenders \n",
    "string enumeration to rows: split tuple strings to array, then explode the array to rows"
   ]
  },
  {
   "cell_type": "code",
   "execution_count": null,
   "metadata": {},
   "outputs": [],
   "source": [
    "start = timeit.default_timer()\n",
    "\n",
    "llsf = SFrame.read_csv('../../kiva/loans_lenders.csv', header=True) #, nrows=20) \n",
    "# 339 MB file, 1.387.433 lines -> 27.459.086 distinct lines normalized, 8.4 - 6.4GB mem\n",
    "# 200.000 heading lines --> 3.994.263 distinct output lines\n",
    "print('read lines: ', llsf.num_rows() )\n",
    "\n",
    "# transform string to list: - have to remove whitespaces too\n",
    "llsf['lenders_list'] = llsf.apply( lambda row: row['lenders'].replace(' ', '').split(',') )\n",
    "llsf = llsf.remove_column('lenders')\n",
    "\n",
    "# stacking list elements to rows: \n",
    "llsf = llsf.stack('lenders_list', new_column_name='lender').select_columns(['loan_id', 'lender']).unique() \n",
    "\n",
    "loans_lenders_sf = llsf \n",
    "\n",
    "print('ellapsed time: ', timeit.default_timer() - start)\n",
    "print('loans_lenders_sf line count: ', loans_lenders_sf.num_rows() )\n",
    "\n",
    "#loans_lenders_sf.export_csv('../../kiva/turi-loans_lenders_sf-20.csv', header=True)"
   ]
  },
  {
   "cell_type": "code",
   "execution_count": null,
   "metadata": {},
   "outputs": [],
   "source": [
    "loans_lenders_sf.head(5)"
   ]
  },
  {
   "cell_type": "code",
   "execution_count": null,
   "metadata": {},
   "outputs": [],
   "source": [
    "loans_lenders_sf.show() "
   ]
  },
  {
   "cell_type": "markdown",
   "metadata": {},
   "source": [
    "## join, filter and sort loan and lender data\n",
    "get distinct joined lines with renamed columns, then write to an output file (for fully materialized results)\n",
    "- filtering on lenders.country_code: \n",
    "  - 'US': 25% of lenders\n",
    "  - 'CA': 3% of lenders --> 3.5 GB joined file, 1.971.548 rows"
   ]
  },
  {
   "cell_type": "code",
   "execution_count": null,
   "metadata": {},
   "outputs": [],
   "source": [
    "start = timeit.default_timer()\n",
    "\n",
    "# filter unique lenders: CA: 67.970\n",
    "lenders_sf_filtered = lenders_sf.filter_by(['CA'], 'country_code').unique()\n",
    "\n",
    "# join: \n",
    "joined_sf = loans_lenders_sf.join(lenders_sf_filtered, on={'lender':'permanent_name'}, how='inner') \\\n",
    "    .join(loans_sf, on={'loan_id':'loan_id'}, how='inner')\n",
    "\n",
    "#joined_sf.export_csv('../../kiva/turi-result-joined.csv', header=True)\n",
    "\n",
    "print('ellapsed time: ', timeit.default_timer() - start)\n",
    "print('line count: ', joined_sf.num_rows() )"
   ]
  },
  {
   "cell_type": "code",
   "execution_count": null,
   "metadata": {},
   "outputs": [],
   "source": [
    "joined_sf.head(5)"
   ]
  },
  {
   "cell_type": "code",
   "execution_count": null,
   "metadata": {},
   "outputs": [],
   "source": [
    "lenders_sf_filtered.show()"
   ]
  },
  {
   "cell_type": "code",
   "execution_count": null,
   "metadata": {},
   "outputs": [],
   "source": [
    "loans_sf.head(4)"
   ]
  },
  {
   "cell_type": "markdown",
   "metadata": {},
   "source": [
    "## grouping and sorting\n",
    "* group by on the joined ‘CA’ table (3.5 GB): count distinct sector_name by lender, then sort\n"
   ]
  },
  {
   "cell_type": "code",
   "execution_count": null,
   "metadata": {},
   "outputs": [],
   "source": [
    "joined_agg_sf = joined_sf.groupby(key_column_names='lender', operations={'sector_name_ct': agg.COUNT_DISTINCT('sector_name')} )\n",
    "#                               .sort('loan_count', ascending = False)\n",
    "\n",
    "joined_sf.export_csv('../../kiva/turi-result-joined_agg_sf.csv', header=True)"
   ]
  },
  {
   "cell_type": "markdown",
   "metadata": {},
   "source": [
    "* group by on the exploded loans_lenders table (6 GB): count distinct loan_id by lender"
   ]
  },
  {
   "cell_type": "code",
   "execution_count": null,
   "metadata": {},
   "outputs": [],
   "source": [
    "start = timeit.default_timer()\n",
    "\n",
    "lender_loan_count_sf = joined_sf.groupby(key_column_names='lender', operations={'loan_id_ct': agg.COUNT_DISTINCT('loan_id')} )\n",
    "#                               .sort('loan_count', ascending = False)\n",
    "\n",
    "lender_loan_count_sf.export_csv('../../kiva/turi-result-lender_loan_count_sf.csv', header=True)\n",
    "\n",
    "print('ellapsed time: ', timeit.default_timer() - start)\n",
    "\n",
    "print('full ellapsed time: ', timeit.default_timer() - full_start)"
   ]
  },
  {
   "cell_type": "markdown",
   "metadata": {},
   "source": [
    "- group by on the loans table (2.1 GB): sum funded_amount by sector_name"
   ]
  }
 ],
 "metadata": {
  "kernelspec": {
   "display_name": "Python 3",
   "language": "python",
   "name": "python3"
  },
  "language_info": {
   "codemirror_mode": {
    "name": "ipython",
    "version": 3
   },
   "file_extension": ".py",
   "mimetype": "text/x-python",
   "name": "python",
   "nbconvert_exporter": "python",
   "pygments_lexer": "ipython3",
   "version": "3.6.8"
  }
 },
 "nbformat": 4,
 "nbformat_minor": 2
}
