{
 "cells": [
  {
   "cell_type": "markdown",
   "metadata": {},
   "source": [
    "## Simple PySpark Structured streaming example\n",
    "\n",
    "- using the examples of \"[Structured Streaming Programming Guide](https://spark.apache.org/docs/latest/structured-streaming-programming-guide.html)\"\n",
    "- Start the streaming query, then send words to socket with e.g. 'telnet localhost 9999' (included in the data-science-python image)"
   ]
  },
  {
   "cell_type": "code",
   "execution_count": 1,
   "metadata": {},
   "outputs": [],
   "source": [
    "import findspark\n",
    "import pyspark\n",
    "from pyspark.sql import SparkSession\n",
    "from pyspark.sql.functions import explode, split\n",
    "import timeit \n",
    "\n",
    "findspark.init()\n",
    "\n",
    "spark = SparkSession.builder \\\n",
    "    .appName('PySpark local structured streaming test') \\\n",
    "    .getOrCreate()"
   ]
  },
  {
   "cell_type": "markdown",
   "metadata": {},
   "source": [
    "### Create streaming dataframe\n",
    "- representing the stream of input files in the path\n",
    "  - to test, simply put text files in the given directory\n",
    "- socket source results in 'connection refused' \n"
   ]
  },
  {
   "cell_type": "code",
   "execution_count": 35,
   "metadata": {},
   "outputs": [],
   "source": [
    "# .format(\"socket\") \\  - connection refused\n",
    "# .option(\"host\", \"localhost\") \\\n",
    "# .option(\"port\", 9999) \\\n",
    "\n",
    "lines = spark \\\n",
    "    .readStream \\\n",
    "    .format(\"text\") \\\n",
    "    .option(\"path\", \"streaming-test-input\") \\\n",
    "    .load()\n",
    "\n",
    "# Split the lines into words\n",
    "words = lines.select(\n",
    "   explode(\n",
    "       split(lines.value, \" \")\n",
    "   ).alias(\"word\")\n",
    ")\n",
    "\n",
    "# Generate running word count\n",
    "# .withWatermark(\"timestamp\", \"10 minutes\") \\\n",
    "wordCounts = words \\\n",
    "    .groupBy(\"word\").count()"
   ]
  },
  {
   "cell_type": "markdown",
   "metadata": {},
   "source": [
    "### Start query\n",
    "- have to stop kernel manually, because awaitTermination blocks - cannot call query.stop() \n",
    "- for the results we have to check the console output - e.g. in the logs of the Docker container"
   ]
  },
  {
   "cell_type": "code",
   "execution_count": null,
   "metadata": {},
   "outputs": [],
   "source": [
    "# Start running the query that prints the running counts to the console\n",
    "# .format(\"console\") - can be \"orc\", \"json\", \"csv\", etc.\n",
    "# .outputMode(\"complete\") \\\n",
    "# .option(\"path\", \"streaming-test-output.csv\") \\\n",
    "#     .option(\"checkpointLocation\", \"streaming-test-checkpoint\") \\\n",
    "query = wordCounts \\\n",
    "    .writeStream \\\n",
    "    .outputMode(\"update\") \\\n",
    "    .format(\"console\") \\\n",
    "    .option(\"path\", \"streaming-test-output.txt\") \\\n",
    "    .start()\n",
    "\n",
    "query.awaitTermination()"
   ]
  }
 ],
 "metadata": {
  "kernelspec": {
   "display_name": "Python 3",
   "language": "python",
   "name": "python3"
  },
  "language_info": {
   "codemirror_mode": {
    "name": "ipython",
    "version": 3
   },
   "file_extension": ".py",
   "mimetype": "text/x-python",
   "name": "python",
   "nbconvert_exporter": "python",
   "pygments_lexer": "ipython3",
   "version": "3.6.7"
  },
  "toc-autonumbering": false
 },
 "nbformat": 4,
 "nbformat_minor": 2
}
