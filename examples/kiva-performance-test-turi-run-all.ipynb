{
 "cells": [
  {
   "cell_type": "markdown",
   "metadata": {},
   "source": [
    "# Experimental simple performance testing notebook for Turi Create\n",
    "- testing and comparing simple dataframe / sql operations of commong data (pre-)processing tasks \n",
    "- various available single-machine Python solutions are to be tested: Pandas, PySpark, Turi Create and Dask.\n",
    "- execution times, CPU load and maximal memory use should be tracked\n",
    "\n",
    "## Kiva dataset \n",
    "- [Kiva](https://www.kaggle.com/gaborfodor/additional-kiva-snapshot): crowdfunding data with lenders and loans, with additional geographic data\n",
    "- download the related CSV files and move them to a folder where the kernel can read them"
   ]
  },
  {
   "cell_type": "markdown",
   "metadata": {},
   "source": [
    "## imports, setup"
   ]
  },
  {
   "cell_type": "code",
   "execution_count": 1,
   "metadata": {},
   "outputs": [
    {
     "name": "stderr",
     "output_type": "stream",
     "text": [
      "/opt/conda/lib/python3.6/site-packages/h5py/__init__.py:36: FutureWarning: Conversion of the second argument of issubdtype from `float` to `np.floating` is deprecated. In future, it will be treated as `np.float64 == np.dtype(float).type`.\n",
      "  from ._conv import register_converters as _register_converters\n"
     ]
    }
   ],
   "source": [
    "import turicreate\n",
    "from turicreate import SFrame\n",
    "import turicreate.aggregate as agg\n",
    "\n",
    "import timeit"
   ]
  },
  {
   "cell_type": "markdown",
   "metadata": {},
   "source": [
    "## read files to dataframes: loans and lenders"
   ]
  },
  {
   "cell_type": "code",
   "execution_count": 2,
   "metadata": {},
   "outputs": [
    {
     "data": {
      "text/html": [
       "<pre>Finished parsing file /home/scs/kiva/lenders.csv</pre>"
      ],
      "text/plain": [
       "Finished parsing file /home/scs/kiva/lenders.csv"
      ]
     },
     "metadata": {},
     "output_type": "display_data"
    },
    {
     "data": {
      "text/html": [
       "<pre>Parsing completed. Parsed 100 lines in 0.977735 secs.</pre>"
      ],
      "text/plain": [
       "Parsing completed. Parsed 100 lines in 0.977735 secs."
      ]
     },
     "metadata": {},
     "output_type": "display_data"
    },
    {
     "name": "stdout",
     "output_type": "stream",
     "text": [
      "------------------------------------------------------\n",
      "Inferred types from first 100 line(s) of file as \n",
      "column_type_hints=[str,str,str,str,str,int,str,str,float,str,int]\n",
      "If parsing fails due to incorrect types, you can correct\n",
      "the inferred type list above and pass it to read_csv in\n",
      "the column_type_hints argument\n",
      "------------------------------------------------------\n"
     ]
    },
    {
     "data": {
      "text/html": [
       "<pre>Read 797279 lines. Lines per second: 557304</pre>"
      ],
      "text/plain": [
       "Read 797279 lines. Lines per second: 557304"
      ]
     },
     "metadata": {},
     "output_type": "display_data"
    },
    {
     "data": {
      "text/html": [
       "<pre>Finished parsing file /home/scs/kiva/lenders.csv</pre>"
      ],
      "text/plain": [
       "Finished parsing file /home/scs/kiva/lenders.csv"
      ]
     },
     "metadata": {},
     "output_type": "display_data"
    },
    {
     "data": {
      "text/html": [
       "<pre>Parsing completed. Parsed 2349174 lines in 3.01464 secs.</pre>"
      ],
      "text/plain": [
       "Parsing completed. Parsed 2349174 lines in 3.01464 secs."
      ]
     },
     "metadata": {},
     "output_type": "display_data"
    },
    {
     "data": {
      "text/html": [
       "<pre>Finished parsing file /home/scs/kiva/loans.csv</pre>"
      ],
      "text/plain": [
       "Finished parsing file /home/scs/kiva/loans.csv"
      ]
     },
     "metadata": {},
     "output_type": "display_data"
    },
    {
     "data": {
      "text/html": [
       "<pre>Parsing completed. Parsed 100 lines in 0.489397 secs.</pre>"
      ],
      "text/plain": [
       "Parsing completed. Parsed 100 lines in 0.489397 secs."
      ]
     },
     "metadata": {},
     "output_type": "display_data"
    },
    {
     "name": "stdout",
     "output_type": "stream",
     "text": [
      "------------------------------------------------------\n",
      "Inferred types from first 100 line(s) of file as \n",
      "column_type_hints=[int,str,str,str,str,float,float,str,str,str,str,str,str,str,str,float,str,float,str,str,str,str,float,int,int,int,str,str,str,str,str]\n",
      "If parsing fails due to incorrect types, you can correct\n",
      "the inferred type list above and pass it to read_csv in\n",
      "the column_type_hints argument\n",
      "------------------------------------------------------\n"
     ]
    },
    {
     "data": {
      "text/html": [
       "<pre>Read 195726 lines. Lines per second: 87412.1</pre>"
      ],
      "text/plain": [
       "Read 195726 lines. Lines per second: 87412.1"
      ]
     },
     "metadata": {},
     "output_type": "display_data"
    },
    {
     "data": {
      "text/html": [
       "<pre>Read 653123 lines. Lines per second: 86830.2</pre>"
      ],
      "text/plain": [
       "Read 653123 lines. Lines per second: 86830.2"
      ]
     },
     "metadata": {},
     "output_type": "display_data"
    },
    {
     "data": {
      "text/html": [
       "<pre>Read 1075431 lines. Lines per second: 84321.5</pre>"
      ],
      "text/plain": [
       "Read 1075431 lines. Lines per second: 84321.5"
      ]
     },
     "metadata": {},
     "output_type": "display_data"
    },
    {
     "data": {
      "text/html": [
       "<pre>Finished parsing file /home/scs/kiva/loans.csv</pre>"
      ],
      "text/plain": [
       "Finished parsing file /home/scs/kiva/loans.csv"
      ]
     },
     "metadata": {},
     "output_type": "display_data"
    },
    {
     "data": {
      "text/html": [
       "<pre>Parsing completed. Parsed 1419607 lines in 17.461 secs.</pre>"
      ],
      "text/plain": [
       "Parsing completed. Parsed 1419607 lines in 17.461 secs."
      ]
     },
     "metadata": {},
     "output_type": "display_data"
    }
   ],
   "source": [
    "full_start = timeit.default_timer()\n",
    "\n",
    "lenders_sf = SFrame(data='../../kiva/lenders.csv')  # 130 MB file, 797.279 lines\n",
    "loans_sf = SFrame(data='../../kiva/loans.csv')      # 2.1 GB file, 1.419.607 lines"
   ]
  },
  {
   "cell_type": "markdown",
   "metadata": {},
   "source": [
    "## read, transform and count loan_lenders \n",
    "string enumeration to rows: split tuple strings to array, then explode the array to rows"
   ]
  },
  {
   "cell_type": "code",
   "execution_count": 3,
   "metadata": {},
   "outputs": [
    {
     "data": {
      "text/html": [
       "<pre>Finished parsing file /home/scs/kiva/loans_lenders.csv</pre>"
      ],
      "text/plain": [
       "Finished parsing file /home/scs/kiva/loans_lenders.csv"
      ]
     },
     "metadata": {},
     "output_type": "display_data"
    },
    {
     "data": {
      "text/html": [
       "<pre>Parsing completed. Parsed 100 lines in 0.409299 secs.</pre>"
      ],
      "text/plain": [
       "Parsing completed. Parsed 100 lines in 0.409299 secs."
      ]
     },
     "metadata": {},
     "output_type": "display_data"
    },
    {
     "name": "stdout",
     "output_type": "stream",
     "text": [
      "------------------------------------------------------\n",
      "Inferred types from first 100 line(s) of file as \n",
      "column_type_hints=[int,str]\n",
      "If parsing fails due to incorrect types, you can correct\n",
      "the inferred type list above and pass it to read_csv in\n",
      "the column_type_hints argument\n",
      "------------------------------------------------------\n"
     ]
    },
    {
     "data": {
      "text/html": [
       "<pre>Read 203032 lines. Lines per second: 382032</pre>"
      ],
      "text/plain": [
       "Read 203032 lines. Lines per second: 382032"
      ]
     },
     "metadata": {},
     "output_type": "display_data"
    },
    {
     "data": {
      "text/html": [
       "<pre>Finished parsing file /home/scs/kiva/loans_lenders.csv</pre>"
      ],
      "text/plain": [
       "Finished parsing file /home/scs/kiva/loans_lenders.csv"
      ]
     },
     "metadata": {},
     "output_type": "display_data"
    },
    {
     "data": {
      "text/html": [
       "<pre>Parsing completed. Parsed 1387432 lines in 2.25102 secs.</pre>"
      ],
      "text/plain": [
       "Parsing completed. Parsed 1387432 lines in 2.25102 secs."
      ]
     },
     "metadata": {},
     "output_type": "display_data"
    },
    {
     "name": "stdout",
     "output_type": "stream",
     "text": [
      "ellapsed time:  63.05687742300506\n"
     ]
    }
   ],
   "source": [
    "start = timeit.default_timer()\n",
    "\n",
    "llsf = SFrame.read_csv('../../kiva/loans_lenders.csv', header=True) #, nrows=20) \n",
    "\n",
    "# transform string to list: - have to remove whitespaces too\n",
    "llsf['lenders_list'] = llsf.apply( lambda row: row['lenders'].replace(' ', '').split(',') )\n",
    "llsf = llsf.remove_column('lenders')\n",
    "\n",
    "# stacking list elements to rows: \n",
    "llsf = llsf.stack('lenders_list', new_column_name='lender').select_columns(['loan_id', 'lender']).unique() \n",
    "\n",
    "loans_lenders_sf = llsf \n",
    "\n",
    "print('ellapsed time: ', timeit.default_timer() - start)"
   ]
  },
  {
   "cell_type": "markdown",
   "metadata": {},
   "source": [
    "## join, filter and sort loan and lender data\n",
    "get distinct joined lines with renamed columns, then write to an output file (for fully materialized results)\n",
    "- filtering on lenders.country_code: \n",
    "  - 'US': 25% of lenders\n",
    "  - 'CA': 3% of lenders --> 3.5 GB joined file, 1.971.548 rows"
   ]
  },
  {
   "cell_type": "code",
   "execution_count": 4,
   "metadata": {},
   "outputs": [
    {
     "name": "stdout",
     "output_type": "stream",
     "text": [
      "ellapsed time:  26.369552541000303\n"
     ]
    }
   ],
   "source": [
    "start = timeit.default_timer()\n",
    "\n",
    "# filter unique lenders: CA: 67.970\n",
    "lenders_sf_filtered = lenders_sf.filter_by(['CA'], 'country_code').unique()\n",
    "\n",
    "# join: \n",
    "joined_sf = loans_lenders_sf.join(lenders_sf_filtered, on={'lender':'permanent_name'}, how='inner') \\\n",
    "    .join(loans_sf, on={'loan_id':'loan_id'}, how='inner')\n",
    "\n",
    "print('ellapsed time: ', timeit.default_timer() - start)"
   ]
  },
  {
   "cell_type": "markdown",
   "metadata": {},
   "source": [
    "## grouping and sorting\n",
    "* group by on the exploded loans_lenders table (6 GB): count distinct loan_id by lender\n"
   ]
  },
  {
   "cell_type": "code",
   "execution_count": 5,
   "metadata": {},
   "outputs": [
    {
     "name": "stdout",
     "output_type": "stream",
     "text": [
      "ellapsed time:  2.106998919000034\n",
      "full ellapsed time:  114.90185756399296\n"
     ]
    }
   ],
   "source": [
    "start = timeit.default_timer()\n",
    "\n",
    "lender_loan_count_sf = joined_sf.groupby(key_column_names='lender', operations={'loan_id_ct': agg.COUNT_DISTINCT('loan_id')} )\n",
    "#                               .sort('loan_count', ascending = False)\n",
    "\n",
    "lender_loan_count_sf.export_csv('../../kiva/turi-result-lender_loan_count_sf.csv', header=True)\n",
    "\n",
    "print('ellapsed time: ', timeit.default_timer() - start)\n",
    "\n",
    "print('full ellapsed time: ', timeit.default_timer() - full_start)"
   ]
  }
 ],
 "metadata": {
  "kernelspec": {
   "display_name": "Python 3",
   "language": "python",
   "name": "python3"
  },
  "language_info": {
   "codemirror_mode": {
    "name": "ipython",
    "version": 3
   },
   "file_extension": ".py",
   "mimetype": "text/x-python",
   "name": "python",
   "nbconvert_exporter": "python",
   "pygments_lexer": "ipython3",
   "version": "3.6.8"
  }
 },
 "nbformat": 4,
 "nbformat_minor": 2
}
